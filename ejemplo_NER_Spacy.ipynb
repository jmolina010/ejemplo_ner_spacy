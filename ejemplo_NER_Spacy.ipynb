{
  "nbformat": 4,
  "nbformat_minor": 0,
  "metadata": {
    "colab": {
      "provenance": [],
      "authorship_tag": "ABX9TyOIEA4jIDqdgPOZxVX4Zd/F",
      "include_colab_link": true
    },
    "kernelspec": {
      "name": "python3",
      "display_name": "Python 3"
    },
    "language_info": {
      "name": "python"
    }
  },
  "cells": [
    {
      "cell_type": "markdown",
      "metadata": {
        "id": "view-in-github",
        "colab_type": "text"
      },
      "source": [
        "<a href=\"https://colab.research.google.com/github/jmolina010/ejemplo_ner_spacy/blob/main/ejemplo_NER_Spacy.ipynb\" target=\"_parent\"><img src=\"https://colab.research.google.com/assets/colab-badge.svg\" alt=\"Open In Colab\"/></a>"
      ]
    },
    {
      "cell_type": "code",
      "source": [
        "# pip install -U spacy\n",
        "# python -m spacy download en_core_web_sm\n",
        "!python -m spacy download es_core_news_lg\n",
        "\n",
        "import spacy\n"
      ],
      "metadata": {
        "colab": {
          "base_uri": "https://localhost:8080/"
        },
        "id": "zg_exdP0ckB7",
        "outputId": "0637f54a-650a-4b41-b788-41cf2ed4f066"
      },
      "execution_count": 3,
      "outputs": [
        {
          "output_type": "stream",
          "name": "stdout",
          "text": [
            "2023-07-25 09:47:52.819870: W tensorflow/compiler/tf2tensorrt/utils/py_utils.cc:38] TF-TRT Warning: Could not find TensorRT\n",
            "Collecting es-core-news-lg==3.5.0\n",
            "  Downloading https://github.com/explosion/spacy-models/releases/download/es_core_news_lg-3.5.0/es_core_news_lg-3.5.0-py3-none-any.whl (568.0 MB)\n",
            "\u001b[2K     \u001b[90m━━━━━━━━━━━━━━━━━━━━━━━━━━━━━━━━━━━━━━━\u001b[0m \u001b[32m568.0/568.0 MB\u001b[0m \u001b[31m1.2 MB/s\u001b[0m eta \u001b[36m0:00:00\u001b[0m\n",
            "\u001b[?25hRequirement already satisfied: spacy<3.6.0,>=3.5.0 in /usr/local/lib/python3.10/dist-packages (from es-core-news-lg==3.5.0) (3.5.4)\n",
            "Requirement already satisfied: spacy-legacy<3.1.0,>=3.0.11 in /usr/local/lib/python3.10/dist-packages (from spacy<3.6.0,>=3.5.0->es-core-news-lg==3.5.0) (3.0.12)\n",
            "Requirement already satisfied: spacy-loggers<2.0.0,>=1.0.0 in /usr/local/lib/python3.10/dist-packages (from spacy<3.6.0,>=3.5.0->es-core-news-lg==3.5.0) (1.0.4)\n",
            "Requirement already satisfied: murmurhash<1.1.0,>=0.28.0 in /usr/local/lib/python3.10/dist-packages (from spacy<3.6.0,>=3.5.0->es-core-news-lg==3.5.0) (1.0.9)\n",
            "Requirement already satisfied: cymem<2.1.0,>=2.0.2 in /usr/local/lib/python3.10/dist-packages (from spacy<3.6.0,>=3.5.0->es-core-news-lg==3.5.0) (2.0.7)\n",
            "Requirement already satisfied: preshed<3.1.0,>=3.0.2 in /usr/local/lib/python3.10/dist-packages (from spacy<3.6.0,>=3.5.0->es-core-news-lg==3.5.0) (3.0.8)\n",
            "Requirement already satisfied: thinc<8.2.0,>=8.1.8 in /usr/local/lib/python3.10/dist-packages (from spacy<3.6.0,>=3.5.0->es-core-news-lg==3.5.0) (8.1.10)\n",
            "Requirement already satisfied: wasabi<1.2.0,>=0.9.1 in /usr/local/lib/python3.10/dist-packages (from spacy<3.6.0,>=3.5.0->es-core-news-lg==3.5.0) (1.1.2)\n",
            "Requirement already satisfied: srsly<3.0.0,>=2.4.3 in /usr/local/lib/python3.10/dist-packages (from spacy<3.6.0,>=3.5.0->es-core-news-lg==3.5.0) (2.4.7)\n",
            "Requirement already satisfied: catalogue<2.1.0,>=2.0.6 in /usr/local/lib/python3.10/dist-packages (from spacy<3.6.0,>=3.5.0->es-core-news-lg==3.5.0) (2.0.8)\n",
            "Requirement already satisfied: typer<0.10.0,>=0.3.0 in /usr/local/lib/python3.10/dist-packages (from spacy<3.6.0,>=3.5.0->es-core-news-lg==3.5.0) (0.9.0)\n",
            "Requirement already satisfied: pathy>=0.10.0 in /usr/local/lib/python3.10/dist-packages (from spacy<3.6.0,>=3.5.0->es-core-news-lg==3.5.0) (0.10.2)\n",
            "Requirement already satisfied: smart-open<7.0.0,>=5.2.1 in /usr/local/lib/python3.10/dist-packages (from spacy<3.6.0,>=3.5.0->es-core-news-lg==3.5.0) (6.3.0)\n",
            "Requirement already satisfied: tqdm<5.0.0,>=4.38.0 in /usr/local/lib/python3.10/dist-packages (from spacy<3.6.0,>=3.5.0->es-core-news-lg==3.5.0) (4.65.0)\n",
            "Requirement already satisfied: numpy>=1.15.0 in /usr/local/lib/python3.10/dist-packages (from spacy<3.6.0,>=3.5.0->es-core-news-lg==3.5.0) (1.22.4)\n",
            "Requirement already satisfied: requests<3.0.0,>=2.13.0 in /usr/local/lib/python3.10/dist-packages (from spacy<3.6.0,>=3.5.0->es-core-news-lg==3.5.0) (2.27.1)\n",
            "Requirement already satisfied: pydantic!=1.8,!=1.8.1,<1.11.0,>=1.7.4 in /usr/local/lib/python3.10/dist-packages (from spacy<3.6.0,>=3.5.0->es-core-news-lg==3.5.0) (1.10.11)\n",
            "Requirement already satisfied: jinja2 in /usr/local/lib/python3.10/dist-packages (from spacy<3.6.0,>=3.5.0->es-core-news-lg==3.5.0) (3.1.2)\n",
            "Requirement already satisfied: setuptools in /usr/local/lib/python3.10/dist-packages (from spacy<3.6.0,>=3.5.0->es-core-news-lg==3.5.0) (67.7.2)\n",
            "Requirement already satisfied: packaging>=20.0 in /usr/local/lib/python3.10/dist-packages (from spacy<3.6.0,>=3.5.0->es-core-news-lg==3.5.0) (23.1)\n",
            "Requirement already satisfied: langcodes<4.0.0,>=3.2.0 in /usr/local/lib/python3.10/dist-packages (from spacy<3.6.0,>=3.5.0->es-core-news-lg==3.5.0) (3.3.0)\n",
            "Requirement already satisfied: typing-extensions>=4.2.0 in /usr/local/lib/python3.10/dist-packages (from pydantic!=1.8,!=1.8.1,<1.11.0,>=1.7.4->spacy<3.6.0,>=3.5.0->es-core-news-lg==3.5.0) (4.7.1)\n",
            "Requirement already satisfied: urllib3<1.27,>=1.21.1 in /usr/local/lib/python3.10/dist-packages (from requests<3.0.0,>=2.13.0->spacy<3.6.0,>=3.5.0->es-core-news-lg==3.5.0) (1.26.16)\n",
            "Requirement already satisfied: certifi>=2017.4.17 in /usr/local/lib/python3.10/dist-packages (from requests<3.0.0,>=2.13.0->spacy<3.6.0,>=3.5.0->es-core-news-lg==3.5.0) (2023.5.7)\n",
            "Requirement already satisfied: charset-normalizer~=2.0.0 in /usr/local/lib/python3.10/dist-packages (from requests<3.0.0,>=2.13.0->spacy<3.6.0,>=3.5.0->es-core-news-lg==3.5.0) (2.0.12)\n",
            "Requirement already satisfied: idna<4,>=2.5 in /usr/local/lib/python3.10/dist-packages (from requests<3.0.0,>=2.13.0->spacy<3.6.0,>=3.5.0->es-core-news-lg==3.5.0) (3.4)\n",
            "Requirement already satisfied: blis<0.8.0,>=0.7.8 in /usr/local/lib/python3.10/dist-packages (from thinc<8.2.0,>=8.1.8->spacy<3.6.0,>=3.5.0->es-core-news-lg==3.5.0) (0.7.9)\n",
            "Requirement already satisfied: confection<1.0.0,>=0.0.1 in /usr/local/lib/python3.10/dist-packages (from thinc<8.2.0,>=8.1.8->spacy<3.6.0,>=3.5.0->es-core-news-lg==3.5.0) (0.1.0)\n",
            "Requirement already satisfied: click<9.0.0,>=7.1.1 in /usr/local/lib/python3.10/dist-packages (from typer<0.10.0,>=0.3.0->spacy<3.6.0,>=3.5.0->es-core-news-lg==3.5.0) (8.1.6)\n",
            "Requirement already satisfied: MarkupSafe>=2.0 in /usr/local/lib/python3.10/dist-packages (from jinja2->spacy<3.6.0,>=3.5.0->es-core-news-lg==3.5.0) (2.1.3)\n",
            "Installing collected packages: es-core-news-lg\n",
            "Successfully installed es-core-news-lg-3.5.0\n",
            "\u001b[38;5;2m✔ Download and installation successful\u001b[0m\n",
            "You can now load the package via spacy.load('es_core_news_lg')\n"
          ]
        }
      ]
    },
    {
      "cell_type": "code",
      "execution_count": 7,
      "metadata": {
        "colab": {
          "base_uri": "https://localhost:8080/"
        },
        "id": "q3-4ORueXLGo",
        "outputId": "c302b4bf-01a0-4977-e865-26e53ea6f102"
      },
      "outputs": [
        {
          "output_type": "stream",
          "name": "stdout",
          "text": [
            "Sustantivos: ['el apogeo', 'ciberataque', ', Ana', ', una ingeniera', 'Google', 'su equipo', 'malicioso hacker', 'Sombra', 'través de intensas batallas digitales', 'las trampas', 'Sombra', 'Aura', ', su IA', 'los', 'astucia', 'su ubicación', 'lo', 'poder', 'Google', 'La victoria celebrada', 'todos', 'un futuro más seguro', 'Ana', 'Aura', 'su lazo', 'la tecnología', 'Google', 'nuevas alturas']\n",
            "Verbos: ['liderar', 'contrarrestar', 'desactivar', 'asistir', 'descifrar', 'detener', 'apoderar', 'asegurar', 'fortalecer', 'llevar']\n",
            "Ana PER\n",
            "Google ORG\n",
            "Sombra. MISC\n",
            "Aura PER\n",
            "IA MISC\n",
            "Con astucia MISC\n",
            "Google ORG\n",
            "La victoria MISC\n",
            "Ana PER\n",
            "Aura PER\n",
            "Google ORG\n"
          ]
        }
      ],
      "source": [
        "\n",
        "# Cargar modelo en español\n",
        "nlp = spacy.load(\"es_core_news_lg\")\n",
        "\n",
        "# texto generado por ChatGPT en respuesta a \"por favor inventa una historia de\n",
        "# no mas de 100 palabras sobre Google que incluya nombres y algo de acción\"\n",
        "texto = 'En el apogeo del ciberataque, Ana, una ingeniera de Google, lideró a '\n",
        "texto += 'su equipo para contrarrestar al malicioso hacker Sombra. A través de '\n",
        "texto += 'intensas batallas digitales, desactivaron las trampas de Sombra, '\n",
        "texto += 'mientras Aura, su IA, los asistía. Con astucia, descifraron su '\n",
        "texto += 'ubicación y lo detuvieron justo antes de que se apoderara del poder '\n",
        "texto += 'de Google. La victoria celebrada por todos aseguró un futuro más '\n",
        "texto += 'seguro, mientras Ana y Aura fortalecían su lazo, llevando la '\n",
        "texto += 'tecnología de Google a nuevas alturas.'\n",
        "\n",
        "doc = nlp(texto)\n",
        "\n",
        "# Analyze syntax\n",
        "print(\"Sustantivos:\", [chunk.text for chunk in doc.noun_chunks])\n",
        "print(\"Verbos:\", [token.lemma_ for token in doc if token.pos_ == \"VERB\"])\n",
        "\n",
        "# Find named entities, phrases and concepts\n",
        "for entity in doc.ents:\n",
        "    print(entity.text, entity.label_)\n"
      ]
    },
    {
      "cell_type": "code",
      "source": [
        "# PoS tagging\n",
        "print ('Token'.ljust(25) + 'PoS'.ljust(7) + 'expl'.ljust(30))\n",
        "print ('-----'.ljust(25) + '---'.ljust(7) + '----'.ljust(30))\n",
        "for idx, token in enumerate (doc):\n",
        "      print(token.text.ljust(25) + token.pos_.ljust(7) + spacy.explain(token.pos_).ljust(30))\n",
        "      # print (token.text.ljust(25) + str(token.pos_).ljust(7) + token.ent_type_.ljust(10))"
      ],
      "metadata": {
        "colab": {
          "base_uri": "https://localhost:8080/"
        },
        "id": "_kLqkXwHidgf",
        "outputId": "fa598f97-48f2-4511-e0b3-ae941cd56f4d"
      },
      "execution_count": 28,
      "outputs": [
        {
          "output_type": "stream",
          "name": "stdout",
          "text": [
            "Token                    pos    expl                          \n",
            "-----                    ---    ----                          \n",
            "En                       ADP    adposition                    \n",
            "el                       DET    determiner                    \n",
            "apogeo                   NOUN   noun                          \n",
            "del                      ADP    adposition                    \n",
            "ciberataque              NOUN   noun                          \n",
            ",                        PUNCT  punctuation                   \n",
            "Ana                      PROPN  proper noun                   \n",
            ",                        PUNCT  punctuation                   \n",
            "una                      DET    determiner                    \n",
            "ingeniera                NOUN   noun                          \n",
            "de                       ADP    adposition                    \n",
            "Google                   PROPN  proper noun                   \n",
            ",                        PUNCT  punctuation                   \n",
            "lideró                   VERB   verb                          \n",
            "a                        ADP    adposition                    \n",
            "su                       DET    determiner                    \n",
            "equipo                   NOUN   noun                          \n",
            "para                     ADP    adposition                    \n",
            "contrarrestar            VERB   verb                          \n",
            "al                       ADP    adposition                    \n",
            "malicioso                ADJ    adjective                     \n",
            "hacker                   NOUN   noun                          \n",
            "Sombra                   PROPN  proper noun                   \n",
            ".                        PUNCT  punctuation                   \n",
            "A                        ADP    adposition                    \n",
            "través                   NOUN   noun                          \n",
            "de                       ADP    adposition                    \n",
            "intensas                 ADJ    adjective                     \n",
            "batallas                 NOUN   noun                          \n",
            "digitales                ADJ    adjective                     \n",
            ",                        PUNCT  punctuation                   \n",
            "desactivaron             VERB   verb                          \n",
            "las                      DET    determiner                    \n",
            "trampas                  NOUN   noun                          \n",
            "de                       ADP    adposition                    \n",
            "Sombra                   PROPN  proper noun                   \n",
            ",                        PUNCT  punctuation                   \n",
            "mientras                 CCONJ  coordinating conjunction      \n",
            "Aura                     PROPN  proper noun                   \n",
            ",                        PUNCT  punctuation                   \n",
            "su                       DET    determiner                    \n",
            "IA                       PROPN  proper noun                   \n",
            ",                        PUNCT  punctuation                   \n",
            "los                      PRON   pronoun                       \n",
            "asistía                  VERB   verb                          \n",
            ".                        PUNCT  punctuation                   \n",
            "Con                      ADP    adposition                    \n",
            "astucia                  NOUN   noun                          \n",
            ",                        PUNCT  punctuation                   \n",
            "descifraron              VERB   verb                          \n",
            "su                       DET    determiner                    \n",
            "ubicación                NOUN   noun                          \n",
            "y                        CCONJ  coordinating conjunction      \n",
            "lo                       PRON   pronoun                       \n",
            "detuvieron               VERB   verb                          \n",
            "justo                    ADV    adverb                        \n",
            "antes                    ADV    adverb                        \n",
            "de                       ADP    adposition                    \n",
            "que                      SCONJ  subordinating conjunction     \n",
            "se                       PRON   pronoun                       \n",
            "apoderara                VERB   verb                          \n",
            "del                      ADP    adposition                    \n",
            "poder                    NOUN   noun                          \n",
            "de                       ADP    adposition                    \n",
            "Google                   PROPN  proper noun                   \n",
            ".                        PUNCT  punctuation                   \n",
            "La                       DET    determiner                    \n",
            "victoria                 NOUN   noun                          \n",
            "celebrada                ADJ    adjective                     \n",
            "por                      ADP    adposition                    \n",
            "todos                    PRON   pronoun                       \n",
            "aseguró                  VERB   verb                          \n",
            "un                       DET    determiner                    \n",
            "futuro                   NOUN   noun                          \n",
            "más                      ADV    adverb                        \n",
            "seguro                   ADJ    adjective                     \n",
            ",                        PUNCT  punctuation                   \n",
            "mientras                 CCONJ  coordinating conjunction      \n",
            "Ana                      PROPN  proper noun                   \n",
            "y                        CCONJ  coordinating conjunction      \n",
            "Aura                     PROPN  proper noun                   \n",
            "fortalecían              VERB   verb                          \n",
            "su                       DET    determiner                    \n",
            "lazo                     NOUN   noun                          \n",
            ",                        PUNCT  punctuation                   \n",
            "llevando                 VERB   verb                          \n",
            "la                       DET    determiner                    \n",
            "tecnología               NOUN   noun                          \n",
            "de                       ADP    adposition                    \n",
            "Google                   PROPN  proper noun                   \n",
            "a                        ADP    adposition                    \n",
            "nuevas                   ADJ    adjective                     \n",
            "alturas                  NOUN   noun                          \n",
            ".                        PUNCT  punctuation                   \n"
          ]
        }
      ]
    }
  ]
}